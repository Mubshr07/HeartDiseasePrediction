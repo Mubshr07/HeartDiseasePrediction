{
 "cells": [
  {
   "cell_type": "code",
   "execution_count": 2,
   "metadata": {},
   "outputs": [
    {
     "ename": "SyntaxError",
     "evalue": "invalid syntax. Perhaps you forgot a comma? (4064434570.py, line 22)",
     "output_type": "error",
     "traceback": [
      "\u001b[1;36m  Cell \u001b[1;32mIn[2], line 22\u001b[1;36m\u001b[0m\n\u001b[1;33m    cuda_version = tf.test.is_built_with_cuda gpu.property('major').value\u001b[0m\n\u001b[1;37m                   ^\u001b[0m\n\u001b[1;31mSyntaxError\u001b[0m\u001b[1;31m:\u001b[0m invalid syntax. Perhaps you forgot a comma?\n"
     ]
    }
   ],
   "source": [
    "import tensorflow as tf\n",
    "\n",
    "# Get the list of available devices\n",
    "devices = tf.config.list_physical_devices()\n",
    "print(devices)\n",
    "\n",
    "\n",
    "# Check if there are any GPUs available\n",
    "if any(device.device_type == 'GPU' for device in devices):\n",
    "    # Get the first GPU\n",
    "    gpu = devices[1]\n",
    "    #print(len(devices))\n",
    "    #print(devices[0])\n",
    "    print(devices[1])\n",
    "\n",
    "    print(gpu.name) \n",
    "\n",
    "    # Check if the GPU is visible to TensorFlow\n",
    "    if tf.device(gpu.name):\n",
    "        # Get the CUDA version\n",
    "\n",
    "        cuda_version = tf.test.is_built_with_cuda gpu.property('major').value\n",
    "        # Print the CUDA and CuDNN versions\n",
    "        print('CUDA version:', cuda_version)\n",
    "        \n",
    "        # Check if CuDNN is available\n",
    "        if tf.test.is_built_with_cuda():\n",
    "            # Get the CuDNN version\n",
    "            cudnn_version = tf.test.is_built_with_cudnn()\n",
    "            # Print the CUDA and CuDNN versions\n",
    "            print('CUDA version:', cuda_version)\n",
    "            print('CuDNN version:', cudnn_version)\n",
    "\n",
    "        else:\n",
    "            print('CuDNN is not available.')\n",
    "    else:\n",
    "        print('The GPU is not visible to TensorFlow.')\n",
    "\n",
    "else:\n",
    "    print('There are no GPUs available.')\n"
   ]
  },
  {
   "cell_type": "code",
   "execution_count": null,
   "metadata": {},
   "outputs": [],
   "source": []
  },
  {
   "cell_type": "code",
   "execution_count": 4,
   "metadata": {},
   "outputs": [],
   "source": [
    "import tensorflow as tf\n",
    "tf.config.list_physical_devices('GPU')\n",
    "\n",
    "config = tf.compat.v1.ConfigProto()\n",
    "config.gpu_options.allow_growth = True  \n",
    "config.gpu_options.visible_device_list = \"0\" \n",
    "\n",
    "session = tf.compat.v1.Session(config=config)\n",
    "tf.compat.v1.keras.backend.set_session(session)\n",
    "\n"
   ]
  },
  {
   "cell_type": "code",
   "execution_count": 2,
   "metadata": {},
   "outputs": [
    {
     "name": "stdout",
     "output_type": "stream",
     "text": [
      "Selected device: cuda\n"
     ]
    }
   ],
   "source": [
    "import torch\n",
    "import torch.nn as nn\n",
    "\n",
    "torch.cuda.is_available()\n",
    "\n",
    "\n",
    "device = torch.device(\"cuda\" if torch.cuda.is_available() else \"cpu\")\n",
    "print(\"Selected device:\", device)\n",
    "\n",
    "class SimpleModel(nn.Module):\n",
    "    def __init__(self):\n",
    "        super(SimpleModel, self).__init__()\n",
    "        self.fc = nn.Linear(10, 5)\n",
    "\n",
    "    def forward(self, x):\n",
    "        return self.fc(x)\n",
    "\n",
    "# Instantiate the model\n",
    "model = SimpleModel()\n",
    "\n",
    "# Move the model to the selected device\n",
    "model = model.to(device)\n",
    "\n"
   ]
  },
  {
   "cell_type": "code",
   "execution_count": null,
   "metadata": {},
   "outputs": [],
   "source": []
  }
 ],
 "metadata": {
  "kernelspec": {
   "display_name": "Python 3",
   "language": "python",
   "name": "python3"
  },
  "language_info": {
   "codemirror_mode": {
    "name": "ipython",
    "version": 3
   },
   "file_extension": ".py",
   "mimetype": "text/x-python",
   "name": "python",
   "nbconvert_exporter": "python",
   "pygments_lexer": "ipython3",
   "version": "3.10.0"
  }
 },
 "nbformat": 4,
 "nbformat_minor": 2
}
